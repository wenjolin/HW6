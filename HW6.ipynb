{
  "nbformat": 4,
  "nbformat_minor": 0,
  "metadata": {
    "colab": {
      "provenance": []
    },
    "kernelspec": {
      "name": "python3",
      "display_name": "Python 3"
    },
    "language_info": {
      "name": "python"
    }
  },
  "cells": [
    {
      "cell_type": "code",
      "execution_count": null,
      "metadata": {
        "colab": {
          "base_uri": "https://localhost:8080/"
        },
        "id": "pG2DBlayzSDk",
        "outputId": "545a7e13-0861-4cac-829e-aae96a3e283b"
      },
      "outputs": [
        {
          "output_type": "stream",
          "name": "stdout",
          "text": [
            "HW6\n"
          ]
        }
      ],
      "source": [
        "print(\"HW6\")"
      ]
    },
    {
      "cell_type": "code",
      "source": [
        "print(\"colab\")"
      ],
      "metadata": {
        "id": "dp8ZCDVk2Qfx"
      },
      "execution_count": null,
      "outputs": []
    }
  ]
}